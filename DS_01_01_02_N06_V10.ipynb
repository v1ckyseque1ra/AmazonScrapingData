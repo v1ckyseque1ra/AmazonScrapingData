{
  "cells": [
    {
      "cell_type": "markdown",
      "metadata": {
        "id": "view-in-github",
        "colab_type": "text"
      },
      "source": [
        "<a href=\"https://colab.research.google.com/github/v1ckyseque1ra/AmazonScrapingData/blob/main/DS_01_01_02_N06_V10.ipynb\" target=\"_parent\"><img src=\"https://colab.research.google.com/assets/colab-badge.svg\" alt=\"Open In Colab\"/></a>"
      ]
    },
    {
      "cell_type": "markdown",
      "metadata": {
        "id": "DWCbnc3Wjqpj"
      },
      "source": [
        "<img src = \"./img/TheBridge_logo_RGB_color.jpg\" width = 500>\n",
        "<img src = \"./img/python.jpg\" width = 500>"
      ]
    },
    {
      "cell_type": "markdown",
      "metadata": {
        "id": "LNturaeFjqpw"
      },
      "source": [
        "# Python Basics I"
      ]
    },
    {
      "cell_type": "markdown",
      "metadata": {
        "id": "oF-ewqhmjqpy"
      },
      "source": [
        "## Contenidos"
      ]
    },
    {
      "cell_type": "markdown",
      "metadata": {
        "id": "NtZ5Mve_jqpz"
      },
      "source": [
        "* [Operaciones con booleanos\n",
        "](#Operaciones-con-booleanos\n",
        ")\n",
        "\n"
      ]
    },
    {
      "cell_type": "markdown",
      "metadata": {
        "id": "YIghLehZjqp0"
      },
      "source": [
        "## Operaciones con booleanos\n",
        "[al indice](#Contenidos)  \n",
        "\n",
        "Todas las operaciones que realizabamos en el apartado anterior devolvían un tipo de dato concreto: un booleano. `True` o `False`. Pero ¿cómo harías si se tienen que cumplir 3 condiciones, o solo una de esas tres, o que no se cumplan 5 condiciones?\n",
        "Para este tipo de operaciones recurrimos al [*Álgebra de Boole*](https://es.wikipedia.org/wiki/%C3%81lgebra_de_Boole#:~:text=El%20%C3%A1lgebra%20de%20Boole%2C%20tambi%C3%A9n,que%20esquematiza%20las%20operaciones%20l%C3%B3gicas.). Se trata de una rama del álgebra que se utiliza en electrónica, pero que tiene un sin fin de aplicaciones, no solo téncicas, sino aplicables a la vida cotidiana. Estas matemáticas pueden llegar a ser muy complejas aún utilizando ñunicamente dos valores: `True` y `False`. Las operaciones más comunes son **AND, OR, NOR**.\n",
        "En las siguientes tablas tienes todos los posibles resultados de las puertas AND, OR, NOR, dependiendo de sus inputs.\n",
        "\n",
        "![imagen](./img/puertas_logicas.png)\n",
        "\n",
        "Puede parecer complejo pero a efectos prácticos, y sin meternos con otro tipo de puertas lógicas, te recomiendo seguir estas reglas:\n",
        "* **AND**: Se tienen que cumplir ambas condiciones para que sea un `True`\n",
        "* **OR**: Basta que se cumpla al menos una condicion para que sea `True`\n",
        "* **NOR**: Lo contrario de lo que haya\n",
        "\n",
        "Veamos un ejemplo práctico para aclarar estos conceptos. Imaginemos que queremos comprar un ordenador, pero nos cuesta decidirnos. Eso sí, tenemos claras las siguentes condiciones a la hora de elegir\n",
        "* La RAM me vale que tenga 16, 32 o 64 GB\n",
        "* En cuanto al procesador y disco duro, la combinación que mejor me viene es un i3 con 500GB de disco.\n",
        "* Precio: que no pase de los 800 €"
      ]
    },
    {
      "cell_type": "code",
      "execution_count": 1,
      "metadata": {
        "id": "bvR2UB-_jqp4"
      },
      "outputs": [],
      "source": [
        "# Primer ordenador\n",
        "ram1 = 32\n",
        "process1 = \"i5\"\n",
        "disco1 = 500\n",
        "precio1 = 850\n",
        "\n",
        "# Segundo ordenador\n",
        "ram2 = 8\n",
        "process2 = \"i5\"\n",
        "disco2 = 500\n",
        "precio2 = 600\n",
        "\n",
        "# Tercer ordenador\n",
        "ram3 = 32\n",
        "process3 = \"i3\"\n",
        "disco3 = 500\n",
        "precio3 = 780"
      ]
    },
    {
      "cell_type": "markdown",
      "metadata": {
        "id": "TtM4mTlMjqp8"
      },
      "source": [
        "Veamos cómo implemento esto mediante operaciones booleanas"
      ]
    },
    {
      "cell_type": "code",
      "execution_count": null,
      "metadata": {
        "id": "dExXeyZbjqp-"
      },
      "outputs": [],
      "source": [
        "# Primero, calculamos el valor de estas condiciones por\n",
        "\n",
        "# para el primer ordenador\n"
      ]
    },
    {
      "cell_type": "code",
      "execution_count": 3,
      "metadata": {
        "id": "Hz-kXyaUjqqA",
        "outputId": "9e549aff-6592-4eae-9769-fdcbe0983036",
        "colab": {
          "base_uri": "https://localhost:8080/"
        }
      },
      "outputs": [
        {
          "output_type": "stream",
          "name": "stdout",
          "text": [
            "False True False False\n"
          ]
        }
      ],
      "source": [
        "cond_ram1= (ram1==16 or ram1==32 or ram1 == 64)\n",
        "cond_proces1 = process1 == (\"i3\" and disco1 ==500)\n",
        "cond_precios1 = (precio1< 800)\n",
        "cond_total = cond_ram1 + cond_proces1 and cond_precios1\n",
        "print(cond_total, cond_ram1, cond_proces1, cond_precios1)"
      ]
    },
    {
      "cell_type": "markdown",
      "metadata": {
        "id": "7x8vqKpgjqqB"
      },
      "source": [
        "El primer ordenador cumple el requisito de ram, pero no los de precio y procesador/disco. Veamos los otros dos si los cumplen"
      ]
    },
    {
      "cell_type": "code",
      "execution_count": 4,
      "metadata": {
        "id": "k6i-hvaijqqC",
        "outputId": "5b8c0c25-b238-4398-b3a2-dd37afbead1b",
        "colab": {
          "base_uri": "https://localhost:8080/"
        }
      },
      "outputs": [
        {
          "output_type": "stream",
          "name": "stdout",
          "text": [
            "False False False True\n"
          ]
        }
      ],
      "source": [
        "# Calculamos las condiciones para los otros ordenadores\n",
        "cond_ram2= (ram2==16 or 2==32 or ram2 == 64)\n",
        "cond_proces2 = process2 == (\"i3\" and disco2 ==500)\n",
        "cond_precios2 = (precio2< 800)\n",
        "cond_total2 = cond_ram2 + cond_proces2 and cond_precios2\n",
        "print(cond_total, cond_ram2, cond_proces2, cond_precios2)"
      ]
    },
    {
      "cell_type": "code",
      "source": [
        "cond_ram3= (ram3==16 or ram3==32 or ram3 == 64)\n",
        "cond_proces3 = (process3 == \"i3\" and disco3 ==500)\n",
        "cond_precios3= (precio3< 800)\n",
        "cond_total3 = cond_ram3 + cond_proces3 and cond_precios3\n",
        "print(cond_total3, cond_ram3, cond_proces3, cond_precios3)"
      ],
      "metadata": {
        "id": "aEjgGkkvmpEB",
        "outputId": "02f41a09-215a-4025-90a1-88eff1768de2",
        "colab": {
          "base_uri": "https://localhost:8080/"
        }
      },
      "execution_count": 6,
      "outputs": [
        {
          "output_type": "stream",
          "name": "stdout",
          "text": [
            "True True True True\n"
          ]
        }
      ]
    },
    {
      "cell_type": "markdown",
      "metadata": {
        "id": "sr_slR4bjqqD"
      },
      "source": [
        "¡Bingo! El tercer ordenador cumple todas las condiciones para ser mi futura compra. Verás en próximos notebooks que esto se puede hacer todavía más sencillo mediante bucles y funciones.\n",
        "\n",
        "Si quieres aprender más sobre el **Álgebra de Boole**, te recomiendo [esta página](https://ryanstutorials.net/boolean-algebra-tutorial/)"
      ]
    },
    {
      "cell_type": "code",
      "execution_count": null,
      "metadata": {
        "id": "lJPdDwrZjqqE"
      },
      "outputs": [],
      "source": []
    },
    {
      "cell_type": "code",
      "execution_count": null,
      "metadata": {
        "id": "n0Kgt2SZjqqF"
      },
      "outputs": [],
      "source": []
    }
  ],
  "metadata": {
    "kernelspec": {
      "display_name": "Python 3",
      "language": "python",
      "name": "python3"
    },
    "language_info": {
      "codemirror_mode": {
        "name": "ipython",
        "version": 3
      },
      "file_extension": ".py",
      "mimetype": "text/x-python",
      "name": "python",
      "nbconvert_exporter": "python",
      "pygments_lexer": "ipython3",
      "version": "3.8.3"
    },
    "colab": {
      "provenance": [],
      "include_colab_link": true
    }
  },
  "nbformat": 4,
  "nbformat_minor": 0
}